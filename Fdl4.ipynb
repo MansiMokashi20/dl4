{
  "cells": [
    {
      "cell_type": "code",
      "execution_count": null,
      "metadata": {
        "id": "RwHP-3Fv9RIY"
      },
      "outputs": [],
      "source": [
        "#anomaly detection-assignment\n",
        "import pandas as pd\n",
        "import numpy as np\n",
        "import tensorflow as tf\n",
        "import matplotlib.pyplot as plt\n",
        "import seaborn as sns\n",
        "from sklearn.model_selection import train_test_split"
      ]
    },
    {
      "cell_type": "code",
      "execution_count": null,
      "metadata": {
        "id": "gJpH-E1f9RIY"
      },
      "outputs": [],
      "source": [
        "from sklearn.preprocessing import StandardScaler\n",
        "from sklearn.metrics import confusion_matrix, recall_score, accuracy_score, precision_score\n",
        "RANDOM_SEED = 2021\n",
        "TEST_PCT = 0.3\n",
        "LABELS = [\"Normal\",\"Fraud\"]"
      ]
    },
    {
      "cell_type": "code",
      "execution_count": null,
      "metadata": {
        "id": "m8nW0aS-9RIZ",
        "outputId": "d1e16a01-18a4-4e3e-c101-80172823472d",
        "colab": {
          "base_uri": "https://localhost:8080/",
          "height": 363
        }
      },
      "outputs": [
        {
          "output_type": "stream",
          "name": "stdout",
          "text": [
            "['Time', 'V1', 'V2', 'V3', 'V4', 'V5', 'V6', 'V7', 'V8', 'V9', 'V10', 'V11', 'V12', 'V13', 'V14', 'V15', 'V16', 'V17', 'V18', 'V19', 'V20', 'V21', 'V22', 'V23', 'V24', 'V25', 'V26', 'V27', 'V28', 'Amount', 'Class']\n"
          ]
        },
        {
          "output_type": "execute_result",
          "data": {
            "text/plain": [
              "               Time            V1            V2            V3            V4  \\\n",
              "count  75357.000000  75357.000000  75357.000000  75357.000000  75357.000000   \n",
              "mean   36110.239845     -0.252779     -0.028574      0.678975      0.166227   \n",
              "std    14826.849221      1.877372      1.660941      1.402475      1.370891   \n",
              "min        0.000000    -56.407510    -72.715728    -33.680984     -5.172595   \n",
              "25%    29808.000000     -1.014563     -0.595725      0.190522     -0.725740   \n",
              "50%    39061.000000     -0.246462      0.070645      0.766814      0.185626   \n",
              "75%    47465.000000      1.153590      0.724071      1.398870      1.049550   \n",
              "max    56021.000000      1.960497     18.902453      4.226108     16.715537   \n",
              "\n",
              "                 V5            V6            V7            V8            V9  \\\n",
              "count  75357.000000  75357.000000  75357.000000  75357.000000  75357.000000   \n",
              "mean      -0.274493      0.097547     -0.114049      0.054618      0.003693   \n",
              "std        1.387110      1.305219      1.253220      1.233482      1.151622   \n",
              "min      -42.147898    -26.160506    -31.764946    -73.216718     -9.283925   \n",
              "25%       -0.891744     -0.640664     -0.604835     -0.141745     -0.678360   \n",
              "50%       -0.306681     -0.153060     -0.073692      0.067915     -0.080156   \n",
              "75%        0.263561      0.491405      0.418052      0.346752      0.644633   \n",
              "max       34.801666     22.529298     36.677268     20.007208     10.392889   \n",
              "\n",
              "       ...           V21           V22           V23           V24  \\\n",
              "count  ...  75357.000000  75357.000000  75357.000000  75357.000000   \n",
              "mean   ...     -0.029030     -0.105362     -0.038348      0.007033   \n",
              "std    ...      0.735801      0.636560      0.620647      0.596267   \n",
              "min    ...    -34.830382    -10.933144    -26.751119     -2.836627   \n",
              "25%    ...     -0.225114     -0.524347     -0.178518     -0.324097   \n",
              "50%    ...     -0.059348     -0.079669     -0.050641      0.063602   \n",
              "75%    ...      0.116887      0.309364      0.080096      0.404425   \n",
              "max    ...     22.614889     10.503090     17.297845      4.014444   \n",
              "\n",
              "                V25           V26           V27           V28        Amount  \\\n",
              "count  75357.000000  75357.000000  75356.000000  75356.000000  75356.000000   \n",
              "mean       0.135245      0.024984      0.002408      0.003170     97.386784   \n",
              "std        0.439933      0.498227      0.388885      0.325915    271.107132   \n",
              "min       -7.495741     -2.534330     -9.390980     -9.617915      0.000000   \n",
              "25%       -0.128460     -0.327494     -0.063013     -0.005684      7.680000   \n",
              "50%        0.173419     -0.073581      0.009421      0.022871     26.690000   \n",
              "75%        0.422121      0.305705      0.082473      0.075966     88.982500   \n",
              "max        5.525093      3.517346     12.152401     33.847808  19656.530000   \n",
              "\n",
              "              Class  \n",
              "count  75356.000000  \n",
              "mean       0.002428  \n",
              "std        0.049220  \n",
              "min        0.000000  \n",
              "25%        0.000000  \n",
              "50%        0.000000  \n",
              "75%        0.000000  \n",
              "max        1.000000  \n",
              "\n",
              "[8 rows x 31 columns]"
            ],
            "text/html": [
              "\n",
              "  <div id=\"df-a6acbb17-08db-42ff-aa56-f5e2671d71d9\" class=\"colab-df-container\">\n",
              "    <div>\n",
              "<style scoped>\n",
              "    .dataframe tbody tr th:only-of-type {\n",
              "        vertical-align: middle;\n",
              "    }\n",
              "\n",
              "    .dataframe tbody tr th {\n",
              "        vertical-align: top;\n",
              "    }\n",
              "\n",
              "    .dataframe thead th {\n",
              "        text-align: right;\n",
              "    }\n",
              "</style>\n",
              "<table border=\"1\" class=\"dataframe\">\n",
              "  <thead>\n",
              "    <tr style=\"text-align: right;\">\n",
              "      <th></th>\n",
              "      <th>Time</th>\n",
              "      <th>V1</th>\n",
              "      <th>V2</th>\n",
              "      <th>V3</th>\n",
              "      <th>V4</th>\n",
              "      <th>V5</th>\n",
              "      <th>V6</th>\n",
              "      <th>V7</th>\n",
              "      <th>V8</th>\n",
              "      <th>V9</th>\n",
              "      <th>...</th>\n",
              "      <th>V21</th>\n",
              "      <th>V22</th>\n",
              "      <th>V23</th>\n",
              "      <th>V24</th>\n",
              "      <th>V25</th>\n",
              "      <th>V26</th>\n",
              "      <th>V27</th>\n",
              "      <th>V28</th>\n",
              "      <th>Amount</th>\n",
              "      <th>Class</th>\n",
              "    </tr>\n",
              "  </thead>\n",
              "  <tbody>\n",
              "    <tr>\n",
              "      <th>count</th>\n",
              "      <td>75357.000000</td>\n",
              "      <td>75357.000000</td>\n",
              "      <td>75357.000000</td>\n",
              "      <td>75357.000000</td>\n",
              "      <td>75357.000000</td>\n",
              "      <td>75357.000000</td>\n",
              "      <td>75357.000000</td>\n",
              "      <td>75357.000000</td>\n",
              "      <td>75357.000000</td>\n",
              "      <td>75357.000000</td>\n",
              "      <td>...</td>\n",
              "      <td>75357.000000</td>\n",
              "      <td>75357.000000</td>\n",
              "      <td>75357.000000</td>\n",
              "      <td>75357.000000</td>\n",
              "      <td>75357.000000</td>\n",
              "      <td>75357.000000</td>\n",
              "      <td>75356.000000</td>\n",
              "      <td>75356.000000</td>\n",
              "      <td>75356.000000</td>\n",
              "      <td>75356.000000</td>\n",
              "    </tr>\n",
              "    <tr>\n",
              "      <th>mean</th>\n",
              "      <td>36110.239845</td>\n",
              "      <td>-0.252779</td>\n",
              "      <td>-0.028574</td>\n",
              "      <td>0.678975</td>\n",
              "      <td>0.166227</td>\n",
              "      <td>-0.274493</td>\n",
              "      <td>0.097547</td>\n",
              "      <td>-0.114049</td>\n",
              "      <td>0.054618</td>\n",
              "      <td>0.003693</td>\n",
              "      <td>...</td>\n",
              "      <td>-0.029030</td>\n",
              "      <td>-0.105362</td>\n",
              "      <td>-0.038348</td>\n",
              "      <td>0.007033</td>\n",
              "      <td>0.135245</td>\n",
              "      <td>0.024984</td>\n",
              "      <td>0.002408</td>\n",
              "      <td>0.003170</td>\n",
              "      <td>97.386784</td>\n",
              "      <td>0.002428</td>\n",
              "    </tr>\n",
              "    <tr>\n",
              "      <th>std</th>\n",
              "      <td>14826.849221</td>\n",
              "      <td>1.877372</td>\n",
              "      <td>1.660941</td>\n",
              "      <td>1.402475</td>\n",
              "      <td>1.370891</td>\n",
              "      <td>1.387110</td>\n",
              "      <td>1.305219</td>\n",
              "      <td>1.253220</td>\n",
              "      <td>1.233482</td>\n",
              "      <td>1.151622</td>\n",
              "      <td>...</td>\n",
              "      <td>0.735801</td>\n",
              "      <td>0.636560</td>\n",
              "      <td>0.620647</td>\n",
              "      <td>0.596267</td>\n",
              "      <td>0.439933</td>\n",
              "      <td>0.498227</td>\n",
              "      <td>0.388885</td>\n",
              "      <td>0.325915</td>\n",
              "      <td>271.107132</td>\n",
              "      <td>0.049220</td>\n",
              "    </tr>\n",
              "    <tr>\n",
              "      <th>min</th>\n",
              "      <td>0.000000</td>\n",
              "      <td>-56.407510</td>\n",
              "      <td>-72.715728</td>\n",
              "      <td>-33.680984</td>\n",
              "      <td>-5.172595</td>\n",
              "      <td>-42.147898</td>\n",
              "      <td>-26.160506</td>\n",
              "      <td>-31.764946</td>\n",
              "      <td>-73.216718</td>\n",
              "      <td>-9.283925</td>\n",
              "      <td>...</td>\n",
              "      <td>-34.830382</td>\n",
              "      <td>-10.933144</td>\n",
              "      <td>-26.751119</td>\n",
              "      <td>-2.836627</td>\n",
              "      <td>-7.495741</td>\n",
              "      <td>-2.534330</td>\n",
              "      <td>-9.390980</td>\n",
              "      <td>-9.617915</td>\n",
              "      <td>0.000000</td>\n",
              "      <td>0.000000</td>\n",
              "    </tr>\n",
              "    <tr>\n",
              "      <th>25%</th>\n",
              "      <td>29808.000000</td>\n",
              "      <td>-1.014563</td>\n",
              "      <td>-0.595725</td>\n",
              "      <td>0.190522</td>\n",
              "      <td>-0.725740</td>\n",
              "      <td>-0.891744</td>\n",
              "      <td>-0.640664</td>\n",
              "      <td>-0.604835</td>\n",
              "      <td>-0.141745</td>\n",
              "      <td>-0.678360</td>\n",
              "      <td>...</td>\n",
              "      <td>-0.225114</td>\n",
              "      <td>-0.524347</td>\n",
              "      <td>-0.178518</td>\n",
              "      <td>-0.324097</td>\n",
              "      <td>-0.128460</td>\n",
              "      <td>-0.327494</td>\n",
              "      <td>-0.063013</td>\n",
              "      <td>-0.005684</td>\n",
              "      <td>7.680000</td>\n",
              "      <td>0.000000</td>\n",
              "    </tr>\n",
              "    <tr>\n",
              "      <th>50%</th>\n",
              "      <td>39061.000000</td>\n",
              "      <td>-0.246462</td>\n",
              "      <td>0.070645</td>\n",
              "      <td>0.766814</td>\n",
              "      <td>0.185626</td>\n",
              "      <td>-0.306681</td>\n",
              "      <td>-0.153060</td>\n",
              "      <td>-0.073692</td>\n",
              "      <td>0.067915</td>\n",
              "      <td>-0.080156</td>\n",
              "      <td>...</td>\n",
              "      <td>-0.059348</td>\n",
              "      <td>-0.079669</td>\n",
              "      <td>-0.050641</td>\n",
              "      <td>0.063602</td>\n",
              "      <td>0.173419</td>\n",
              "      <td>-0.073581</td>\n",
              "      <td>0.009421</td>\n",
              "      <td>0.022871</td>\n",
              "      <td>26.690000</td>\n",
              "      <td>0.000000</td>\n",
              "    </tr>\n",
              "    <tr>\n",
              "      <th>75%</th>\n",
              "      <td>47465.000000</td>\n",
              "      <td>1.153590</td>\n",
              "      <td>0.724071</td>\n",
              "      <td>1.398870</td>\n",
              "      <td>1.049550</td>\n",
              "      <td>0.263561</td>\n",
              "      <td>0.491405</td>\n",
              "      <td>0.418052</td>\n",
              "      <td>0.346752</td>\n",
              "      <td>0.644633</td>\n",
              "      <td>...</td>\n",
              "      <td>0.116887</td>\n",
              "      <td>0.309364</td>\n",
              "      <td>0.080096</td>\n",
              "      <td>0.404425</td>\n",
              "      <td>0.422121</td>\n",
              "      <td>0.305705</td>\n",
              "      <td>0.082473</td>\n",
              "      <td>0.075966</td>\n",
              "      <td>88.982500</td>\n",
              "      <td>0.000000</td>\n",
              "    </tr>\n",
              "    <tr>\n",
              "      <th>max</th>\n",
              "      <td>56021.000000</td>\n",
              "      <td>1.960497</td>\n",
              "      <td>18.902453</td>\n",
              "      <td>4.226108</td>\n",
              "      <td>16.715537</td>\n",
              "      <td>34.801666</td>\n",
              "      <td>22.529298</td>\n",
              "      <td>36.677268</td>\n",
              "      <td>20.007208</td>\n",
              "      <td>10.392889</td>\n",
              "      <td>...</td>\n",
              "      <td>22.614889</td>\n",
              "      <td>10.503090</td>\n",
              "      <td>17.297845</td>\n",
              "      <td>4.014444</td>\n",
              "      <td>5.525093</td>\n",
              "      <td>3.517346</td>\n",
              "      <td>12.152401</td>\n",
              "      <td>33.847808</td>\n",
              "      <td>19656.530000</td>\n",
              "      <td>1.000000</td>\n",
              "    </tr>\n",
              "  </tbody>\n",
              "</table>\n",
              "<p>8 rows × 31 columns</p>\n",
              "</div>\n",
              "    <div class=\"colab-df-buttons\">\n",
              "\n",
              "  <div class=\"colab-df-container\">\n",
              "    <button class=\"colab-df-convert\" onclick=\"convertToInteractive('df-a6acbb17-08db-42ff-aa56-f5e2671d71d9')\"\n",
              "            title=\"Convert this dataframe to an interactive table.\"\n",
              "            style=\"display:none;\">\n",
              "\n",
              "  <svg xmlns=\"http://www.w3.org/2000/svg\" height=\"24px\" viewBox=\"0 -960 960 960\">\n",
              "    <path d=\"M120-120v-720h720v720H120Zm60-500h600v-160H180v160Zm220 220h160v-160H400v160Zm0 220h160v-160H400v160ZM180-400h160v-160H180v160Zm440 0h160v-160H620v160ZM180-180h160v-160H180v160Zm440 0h160v-160H620v160Z\"/>\n",
              "  </svg>\n",
              "    </button>\n",
              "\n",
              "  <style>\n",
              "    .colab-df-container {\n",
              "      display:flex;\n",
              "      gap: 12px;\n",
              "    }\n",
              "\n",
              "    .colab-df-convert {\n",
              "      background-color: #E8F0FE;\n",
              "      border: none;\n",
              "      border-radius: 50%;\n",
              "      cursor: pointer;\n",
              "      display: none;\n",
              "      fill: #1967D2;\n",
              "      height: 32px;\n",
              "      padding: 0 0 0 0;\n",
              "      width: 32px;\n",
              "    }\n",
              "\n",
              "    .colab-df-convert:hover {\n",
              "      background-color: #E2EBFA;\n",
              "      box-shadow: 0px 1px 2px rgba(60, 64, 67, 0.3), 0px 1px 3px 1px rgba(60, 64, 67, 0.15);\n",
              "      fill: #174EA6;\n",
              "    }\n",
              "\n",
              "    .colab-df-buttons div {\n",
              "      margin-bottom: 4px;\n",
              "    }\n",
              "\n",
              "    [theme=dark] .colab-df-convert {\n",
              "      background-color: #3B4455;\n",
              "      fill: #D2E3FC;\n",
              "    }\n",
              "\n",
              "    [theme=dark] .colab-df-convert:hover {\n",
              "      background-color: #434B5C;\n",
              "      box-shadow: 0px 1px 3px 1px rgba(0, 0, 0, 0.15);\n",
              "      filter: drop-shadow(0px 1px 2px rgba(0, 0, 0, 0.3));\n",
              "      fill: #FFFFFF;\n",
              "    }\n",
              "  </style>\n",
              "\n",
              "    <script>\n",
              "      const buttonEl =\n",
              "        document.querySelector('#df-a6acbb17-08db-42ff-aa56-f5e2671d71d9 button.colab-df-convert');\n",
              "      buttonEl.style.display =\n",
              "        google.colab.kernel.accessAllowed ? 'block' : 'none';\n",
              "\n",
              "      async function convertToInteractive(key) {\n",
              "        const element = document.querySelector('#df-a6acbb17-08db-42ff-aa56-f5e2671d71d9');\n",
              "        const dataTable =\n",
              "          await google.colab.kernel.invokeFunction('convertToInteractive',\n",
              "                                                    [key], {});\n",
              "        if (!dataTable) return;\n",
              "\n",
              "        const docLinkHtml = 'Like what you see? Visit the ' +\n",
              "          '<a target=\"_blank\" href=https://colab.research.google.com/notebooks/data_table.ipynb>data table notebook</a>'\n",
              "          + ' to learn more about interactive tables.';\n",
              "        element.innerHTML = '';\n",
              "        dataTable['output_type'] = 'display_data';\n",
              "        await google.colab.output.renderOutput(dataTable, element);\n",
              "        const docLink = document.createElement('div');\n",
              "        docLink.innerHTML = docLinkHtml;\n",
              "        element.appendChild(docLink);\n",
              "      }\n",
              "    </script>\n",
              "  </div>\n",
              "\n",
              "\n",
              "<div id=\"df-418b583b-8b72-4a7e-b12d-5b93c934058e\">\n",
              "  <button class=\"colab-df-quickchart\" onclick=\"quickchart('df-418b583b-8b72-4a7e-b12d-5b93c934058e')\"\n",
              "            title=\"Suggest charts.\"\n",
              "            style=\"display:none;\">\n",
              "\n",
              "<svg xmlns=\"http://www.w3.org/2000/svg\" height=\"24px\"viewBox=\"0 0 24 24\"\n",
              "     width=\"24px\">\n",
              "    <g>\n",
              "        <path d=\"M19 3H5c-1.1 0-2 .9-2 2v14c0 1.1.9 2 2 2h14c1.1 0 2-.9 2-2V5c0-1.1-.9-2-2-2zM9 17H7v-7h2v7zm4 0h-2V7h2v10zm4 0h-2v-4h2v4z\"/>\n",
              "    </g>\n",
              "</svg>\n",
              "  </button>\n",
              "\n",
              "<style>\n",
              "  .colab-df-quickchart {\n",
              "      --bg-color: #E8F0FE;\n",
              "      --fill-color: #1967D2;\n",
              "      --hover-bg-color: #E2EBFA;\n",
              "      --hover-fill-color: #174EA6;\n",
              "      --disabled-fill-color: #AAA;\n",
              "      --disabled-bg-color: #DDD;\n",
              "  }\n",
              "\n",
              "  [theme=dark] .colab-df-quickchart {\n",
              "      --bg-color: #3B4455;\n",
              "      --fill-color: #D2E3FC;\n",
              "      --hover-bg-color: #434B5C;\n",
              "      --hover-fill-color: #FFFFFF;\n",
              "      --disabled-bg-color: #3B4455;\n",
              "      --disabled-fill-color: #666;\n",
              "  }\n",
              "\n",
              "  .colab-df-quickchart {\n",
              "    background-color: var(--bg-color);\n",
              "    border: none;\n",
              "    border-radius: 50%;\n",
              "    cursor: pointer;\n",
              "    display: none;\n",
              "    fill: var(--fill-color);\n",
              "    height: 32px;\n",
              "    padding: 0;\n",
              "    width: 32px;\n",
              "  }\n",
              "\n",
              "  .colab-df-quickchart:hover {\n",
              "    background-color: var(--hover-bg-color);\n",
              "    box-shadow: 0 1px 2px rgba(60, 64, 67, 0.3), 0 1px 3px 1px rgba(60, 64, 67, 0.15);\n",
              "    fill: var(--button-hover-fill-color);\n",
              "  }\n",
              "\n",
              "  .colab-df-quickchart-complete:disabled,\n",
              "  .colab-df-quickchart-complete:disabled:hover {\n",
              "    background-color: var(--disabled-bg-color);\n",
              "    fill: var(--disabled-fill-color);\n",
              "    box-shadow: none;\n",
              "  }\n",
              "\n",
              "  .colab-df-spinner {\n",
              "    border: 2px solid var(--fill-color);\n",
              "    border-color: transparent;\n",
              "    border-bottom-color: var(--fill-color);\n",
              "    animation:\n",
              "      spin 1s steps(1) infinite;\n",
              "  }\n",
              "\n",
              "  @keyframes spin {\n",
              "    0% {\n",
              "      border-color: transparent;\n",
              "      border-bottom-color: var(--fill-color);\n",
              "      border-left-color: var(--fill-color);\n",
              "    }\n",
              "    20% {\n",
              "      border-color: transparent;\n",
              "      border-left-color: var(--fill-color);\n",
              "      border-top-color: var(--fill-color);\n",
              "    }\n",
              "    30% {\n",
              "      border-color: transparent;\n",
              "      border-left-color: var(--fill-color);\n",
              "      border-top-color: var(--fill-color);\n",
              "      border-right-color: var(--fill-color);\n",
              "    }\n",
              "    40% {\n",
              "      border-color: transparent;\n",
              "      border-right-color: var(--fill-color);\n",
              "      border-top-color: var(--fill-color);\n",
              "    }\n",
              "    60% {\n",
              "      border-color: transparent;\n",
              "      border-right-color: var(--fill-color);\n",
              "    }\n",
              "    80% {\n",
              "      border-color: transparent;\n",
              "      border-right-color: var(--fill-color);\n",
              "      border-bottom-color: var(--fill-color);\n",
              "    }\n",
              "    90% {\n",
              "      border-color: transparent;\n",
              "      border-bottom-color: var(--fill-color);\n",
              "    }\n",
              "  }\n",
              "</style>\n",
              "\n",
              "  <script>\n",
              "    async function quickchart(key) {\n",
              "      const quickchartButtonEl =\n",
              "        document.querySelector('#' + key + ' button');\n",
              "      quickchartButtonEl.disabled = true;  // To prevent multiple clicks.\n",
              "      quickchartButtonEl.classList.add('colab-df-spinner');\n",
              "      try {\n",
              "        const charts = await google.colab.kernel.invokeFunction(\n",
              "            'suggestCharts', [key], {});\n",
              "      } catch (error) {\n",
              "        console.error('Error during call to suggestCharts:', error);\n",
              "      }\n",
              "      quickchartButtonEl.classList.remove('colab-df-spinner');\n",
              "      quickchartButtonEl.classList.add('colab-df-quickchart-complete');\n",
              "    }\n",
              "    (() => {\n",
              "      let quickchartButtonEl =\n",
              "        document.querySelector('#df-418b583b-8b72-4a7e-b12d-5b93c934058e button');\n",
              "      quickchartButtonEl.style.display =\n",
              "        google.colab.kernel.accessAllowed ? 'block' : 'none';\n",
              "    })();\n",
              "  </script>\n",
              "</div>\n",
              "    </div>\n",
              "  </div>\n"
            ]
          },
          "metadata": {},
          "execution_count": 26
        }
      ],
      "source": [
        "dataset = pd.read_csv(\"/content/creditcard.csv\")\n",
        "#dataset.head\n",
        "print(list(dataset.columns))\n",
        "dataset.describe()"
      ]
    },
    {
      "cell_type": "code",
      "execution_count": null,
      "metadata": {
        "id": "9sePgc-t9RIa",
        "outputId": "dc0126c7-4f8e-42a5-a00f-c413508a4367",
        "colab": {
          "base_uri": "https://localhost:8080/"
        }
      },
      "outputs": [
        {
          "output_type": "stream",
          "name": "stdout",
          "text": [
            "Any nulls in the dataset  True\n",
            "-------\n",
            "No. of unique labels  3\n",
            "Label values  [ 0.  1. nan]\n",
            "-------\n",
            "Break down of the Normal and Fraud Transactions\n",
            "0.0    75173\n",
            "1.0      183\n",
            "Name: Class, dtype: int64\n"
          ]
        }
      ],
      "source": [
        "#check for any  nullvalues\n",
        "print(\"Any nulls in the dataset \",dataset.isnull().values.any() )\n",
        "print('-------')\n",
        "print(\"No. of unique labels \", len(dataset['Class'].unique()))\n",
        "print(\"Label values \",dataset.Class.unique())\n",
        "#0 is for normal credit card transaction\n",
        "#1 is for fraudulent credit card transaction\n",
        "print('-------')\n",
        "print(\"Break down of the Normal and Fraud Transactions\")\n",
        "print(pd.value_counts(dataset['Class'], sort = True) )"
      ]
    },
    {
      "cell_type": "code",
      "execution_count": null,
      "metadata": {
        "id": "oXFkOWyG9RIb",
        "outputId": "c27b0428-e0ef-4932-e4d9-fa99e5c4c1b7",
        "colab": {
          "base_uri": "https://localhost:8080/",
          "height": 472
        }
      },
      "outputs": [
        {
          "output_type": "display_data",
          "data": {
            "text/plain": [
              "<Figure size 640x480 with 1 Axes>"
            ],
            "image/png": "[encoded data removed]"
          },
          "metadata": {}
        }
      ],
      "source": [
        "#Visualizing the imbalanced dataset\n",
        "count_classes = pd.value_counts(dataset['Class'], sort = True)\n",
        "count_classes.plot(kind = 'bar', rot=0)\n",
        "plt.xticks(range(len(dataset['Class'].unique())), dataset.Class.unique())\n",
        "plt.title(\"Frequency by observation number\")\n",
        "plt.xlabel(\"Class\")\n",
        "plt.ylabel(\"Number of Observations\");"
      ]
    },
    {
      "cell_type": "code",
      "execution_count": null,
      "metadata": {
        "id": "3kmjCM0m9RIc",
        "outputId": "cb78822d-7a65-4511-d35a-180cb708db84",
        "colab": {
          "base_uri": "https://localhost:8080/",
          "height": 472
        }
      },
      "outputs": [
        {
          "output_type": "display_data",
          "data": {
            "text/plain": [
              "<Figure size 640x480 with 1 Axes>"
            ],
            "image/png": "[encoded data removed]"
          },
          "metadata": {}
        }
      ],
      "source": [
        "# Save the normal and fradulent transactions in separate dataframe\n",
        "normal_dataset = dataset[dataset.Class == 0]\n",
        "fraud_dataset = dataset[dataset.Class == 1]\n",
        "#Visualize transactionamounts for normal and fraudulent transactions\n",
        "bins = np.linspace(200, 2500, 100)\n",
        "plt.hist(normal_dataset.Amount, bins=bins, alpha=1, density=True, label='Normal')\n",
        "plt.hist(fraud_dataset.Amount, bins=bins, alpha=0.5, density=True, label='Fraud')\n",
        "plt.legend(loc='upper right')\n",
        "plt.title(\"Transaction amount vs Percentage of transactions\")\n",
        "plt.xlabel(\"Transaction amount (USD)\")\n",
        "plt.ylabel(\"Percentage of transactions\");\n",
        "plt.show()"
      ]
    },
    {
      "cell_type": "code",
      "execution_count": null,
      "metadata": {
        "id": "s-FOteWX9RId",
        "colab": {
          "base_uri": "https://localhost:8080/",
          "height": 52
        },
        "outputId": "e0d8c267-dd55-45f7-c59e-c92ee73953c7"
      },
      "outputs": [
        {
          "output_type": "execute_result",
          "data": {
            "text/plain": [
              "'Time and Amount are the columns that are not scaled, so applying StandardScaler to only Amount and Time columns. \\nNormalizing the values between 0 and 1 did not work great for the dataset.'"
            ],
            "application/vnd.google.colaboratory.intrinsic+json": {
              "type": "string"
            }
          },
          "metadata": {},
          "execution_count": 10
        }
      ],
      "source": [
        "'''Time and Amount are the columns that are not scaled, so applying StandardScaler to only Amount and Time columns.\n",
        "Normalizing the values between 0 and 1 did not work great for the dataset.'''"
      ]
    },
    {
      "cell_type": "code",
      "execution_count": null,
      "metadata": {
        "id": "bNyYUoSF9RId"
      },
      "outputs": [],
      "source": [
        "sc=StandardScaler()\n",
        "dataset['Time'] = sc.fit_transform(dataset['Time'].values.reshape(-1, 1))\n",
        "dataset['Amount'] = sc.fit_transform(dataset['Amount'].values.reshape(-1, 1))"
      ]
    },
    {
      "cell_type": "code",
      "execution_count": null,
      "metadata": {
        "id": "tDGHOknf9RIe"
      },
      "outputs": [],
      "source": [
        "'''The last column in the dataset is our target variable.'''\n",
        "\n",
        "raw_data = dataset.values\n",
        "# The last element contains if the transaction is normal which is represented by a 0 and if fraud then 1\n",
        "labels = raw_data[:, -1]\n",
        "# The other data points are the electrocadriogram data\n",
        "data = raw_data[:, 0:-1]\n",
        "train_data, test_data, train_labels, test_labels = train_test_split(\n",
        "    data, labels, test_size=0.2, random_state=2021\n",
        ")"
      ]
    },
    {
      "cell_type": "code",
      "execution_count": null,
      "metadata": {
        "id": "Vw_ybJBb9RIf"
      },
      "outputs": [],
      "source": [
        "'''Normalize the data to have a value between 0 and 1'''\n",
        "\n",
        "min_val = tf.reduce_min(train_data)\n",
        "max_val = tf.reduce_max(train_data)\n",
        "train_data = (train_data - min_val) / (max_val - min_val)\n",
        "test_data = (test_data - min_val) / (max_val - min_val)\n",
        "train_data = tf.cast(train_data, tf.float32)\n",
        "test_data = tf.cast(test_data, tf.float32)"
      ]
    },
    {
      "cell_type": "code",
      "execution_count": null,
      "metadata": {
        "id": "wT3liU6z9RIg",
        "outputId": "4b573c31-e639-4779-877d-85418dca3169",
        "colab": {
          "base_uri": "https://localhost:8080/"
        }
      },
      "outputs": [
        {
          "output_type": "stream",
          "name": "stdout",
          "text": [
            " No. of records in Fraud Train Data= 3\n",
            " No. of records in Normal Train data= 4776\n",
            " No. of records in Fraud Test Data= 1\n",
            " No. of records in Normal Test data= 1194\n"
          ]
        }
      ],
      "source": [
        "'''Use only normal transactions to train the Autoencoder.\n",
        "\n",
        "Normal data has a value of 0 in the target variable. Using the target variable to create a normal and fraud dataset.'''\n",
        "\n",
        "train_labels = train_labels.astype(bool)\n",
        "test_labels = test_labels.astype(bool)\n",
        "\n",
        "#creating normal and fraud datasets\n",
        "\n",
        "normal_train_data = train_data[~train_labels]\n",
        "normal_test_data = test_data[~test_labels]\n",
        "fraud_train_data = train_data[train_labels]\n",
        "fraud_test_data = test_data[test_labels]\n",
        "print(\" No. of records in Fraud Train Data=\",len(fraud_train_data))\n",
        "print(\" No. of records in Normal Train data=\",len(normal_train_data))\n",
        "print(\" No. of records in Fraud Test Data=\",len(fraud_test_data))\n",
        "print(\" No. of records in Normal Test data=\",len(normal_test_data))"
      ]
    },
    {
      "cell_type": "code",
      "execution_count": null,
      "metadata": {
        "id": "jUbUqA2j9RIg"
      },
      "outputs": [],
      "source": [
        "nb_epoch = 50\n",
        "batch_size = 64\n",
        "input_dim = normal_train_data.shape[1] #num of columns, 30\n",
        "encoding_dim = 14\n",
        "hidden_dim_1 = int(encoding_dim / 2) #\n",
        "hidden_dim_2=4\n",
        "learning_rate = 1e-7"
      ]
    },
    {
      "cell_type": "code",
      "execution_count": null,
      "metadata": {
        "id": "GUsl-d8_9RIg",
        "outputId": "67591115-126e-45e2-eebc-de5ec35334b3",
        "colab": {
          "base_uri": "https://localhost:8080/"
        }
      },
      "outputs": [
        {
          "output_type": "stream",
          "name": "stdout",
          "text": [
            "Model: \"model\"\n",
            "_________________________________________________________________\n",
            " Layer (type)                Output Shape              Param #   \n",
            "=================================================================\n",
            " input_1 (InputLayer)        [(None, 30)]              0         \n",
            "                                                                 \n",
            " dense (Dense)               (None, 14)                434       \n",
            "                                                                 \n",
            " dropout (Dropout)           (None, 14)                0         \n",
            "                                                                 \n",
            " dense_1 (Dense)             (None, 7)                 105       \n",
            "                                                                 \n",
            " dense_2 (Dense)             (None, 4)                 32        \n",
            "                                                                 \n",
            " dense_3 (Dense)             (None, 7)                 35        \n",
            "                                                                 \n",
            " dropout_1 (Dropout)         (None, 7)                 0         \n",
            "                                                                 \n",
            " dense_4 (Dense)             (None, 14)                112       \n",
            "                                                                 \n",
            " dense_5 (Dense)             (None, 30)                450       \n",
            "                                                                 \n",
            "=================================================================\n",
            "Total params: 1168 (4.56 KB)\n",
            "Trainable params: 1168 (4.56 KB)\n",
            "Non-trainable params: 0 (0.00 Byte)\n",
            "_________________________________________________________________\n"
          ]
        }
      ],
      "source": [
        "#input Layer\n",
        "input_layer = tf.keras.layers.Input(shape=(input_dim, ))\n",
        "\n",
        "#Encoder\n",
        "encoder = tf.keras.layers.Dense(encoding_dim, activation=\"tanh\",\n",
        "                        activity_regularizer=tf.keras.regularizers.l2(learning_rate))(input_layer)\n",
        "encoder=tf.keras.layers.Dropout(0.2)(encoder)\n",
        "encoder = tf.keras.layers.Dense(hidden_dim_1, activation='relu')(encoder)\n",
        "encoder = tf.keras.layers.Dense(hidden_dim_2, activation=tf.nn.leaky_relu)(encoder)\n",
        "\n",
        "# Decoder\n",
        "decoder = tf.keras.layers.Dense(hidden_dim_1, activation='relu')(encoder)\n",
        "decoder=tf.keras.layers.Dropout(0.2)(decoder)\n",
        "decoder = tf.keras.layers.Dense(encoding_dim, activation='relu')(decoder)\n",
        "decoder = tf.keras.layers.Dense(input_dim, activation='tanh')(decoder)\n",
        "\n",
        "#Autoencoder\n",
        "autoencoder = tf.keras.Model(inputs=input_layer, outputs=decoder)\n",
        "autoencoder.summary()"
      ]
    },
    {
      "cell_type": "code",
      "execution_count": null,
      "metadata": {
        "id": "foRVi5F09RIh"
      },
      "outputs": [],
      "source": [
        "\"\"\"Define the callbacks for checkpoints and early stopping\"\"\"\n",
        "\n",
        "cp = tf.keras.callbacks.ModelCheckpoint(filepath=\"autoencoder_fraud.h5\",\n",
        "                               mode='min', monitor='val_loss', verbose=2, save_best_only=True)\n",
        "# define our early stopping\n",
        "early_stop = tf.keras.callbacks.EarlyStopping(\n",
        "    monitor='val_loss',\n",
        "    min_delta=0.0001,\n",
        "    patience=10,\n",
        "    verbose=1,\n",
        "    mode='min',\n",
        "    restore_best_weights=True)"
      ]
    },
    {
      "cell_type": "code",
      "execution_count": null,
      "metadata": {
        "id": "5iWYI9339RIh"
      },
      "outputs": [],
      "source": [
        "#Compile the Autoencoder\n",
        "\n",
        "autoencoder.compile(metrics=['accuracy'],\n",
        "                    loss='mean_squared_error',\n",
        "                    optimizer='adam')"
      ]
    },
    {
      "cell_type": "code",
      "execution_count": null,
      "metadata": {
        "id": "nZbAFs2g9RIi",
        "outputId": "1c434672-d9e9-4393-8758-d3ef4cc701cd",
        "colab": {
          "base_uri": "https://localhost:8080/"
        }
      },
      "outputs": [
        {
          "output_type": "stream",
          "name": "stdout",
          "text": [
            "Epoch 1/50\n",
            "74/75 [============================>.] - ETA: 0s - loss: 0.1468 - accuracy: 0.0439\n",
            "Epoch 1: val_loss did not improve from inf\n",
            "75/75 [==============================] - 3s 14ms/step - loss: 0.1462 - accuracy: 0.0436 - val_loss: nan - val_accuracy: 0.0971\n",
            "Epoch 2/50\n",
            "70/75 [===========================>..] - ETA: 0s - loss: 0.0336 - accuracy: 0.0379\n",
            "Epoch 2: val_loss did not improve from inf\n",
            "75/75 [==============================] - 1s 8ms/step - loss: 0.0324 - accuracy: 0.0371 - val_loss: nan - val_accuracy: 0.0611\n",
            "Epoch 3/50\n",
            "67/75 [=========================>....] - ETA: 0s - loss: 0.0084 - accuracy: 0.0550\n",
            "Epoch 3: val_loss did not improve from inf\n",
            "75/75 [==============================] - 1s 8ms/step - loss: 0.0081 - accuracy: 0.0542 - val_loss: nan - val_accuracy: 0.0812\n",
            "Epoch 4/50\n",
            "69/75 [==========================>...] - ETA: 0s - loss: 0.0030 - accuracy: 0.0408\n",
            "Epoch 4: val_loss did not improve from inf\n",
            "75/75 [==============================] - 0s 6ms/step - loss: 0.0029 - accuracy: 0.0421 - val_loss: nan - val_accuracy: 0.1741\n",
            "Epoch 5/50\n",
            "66/75 [=========================>....] - ETA: 0s - loss: 0.0013 - accuracy: 0.0571\n",
            "Epoch 5: val_loss did not improve from inf\n",
            "75/75 [==============================] - 0s 5ms/step - loss: 0.0012 - accuracy: 0.0580 - val_loss: nan - val_accuracy: 0.1339\n",
            "Epoch 6/50\n",
            "69/75 [==========================>...] - ETA: 0s - loss: 6.0087e-04 - accuracy: 0.0720\n",
            "Epoch 6: val_loss did not improve from inf\n",
            "75/75 [==============================] - 0s 5ms/step - loss: 5.8696e-04 - accuracy: 0.0758 - val_loss: nan - val_accuracy: 0.1339\n",
            "Epoch 7/50\n",
            "65/75 [=========================>....] - ETA: 0s - loss: 3.5272e-04 - accuracy: 0.0957\n",
            "Epoch 7: val_loss did not improve from inf\n",
            "75/75 [==============================] - 0s 5ms/step - loss: 3.4728e-04 - accuracy: 0.0969 - val_loss: nan - val_accuracy: 0.1339\n",
            "Epoch 8/50\n",
            "71/75 [===========================>..] - ETA: 0s - loss: 2.6251e-04 - accuracy: 0.1202\n",
            "Epoch 8: val_loss did not improve from inf\n",
            "75/75 [==============================] - 0s 5ms/step - loss: 2.6069e-04 - accuracy: 0.1191 - val_loss: nan - val_accuracy: 0.1866\n",
            "Epoch 9/50\n",
            "68/75 [==========================>...] - ETA: 0s - loss: 2.2345e-04 - accuracy: 0.1340\n",
            "Epoch 9: val_loss did not improve from inf\n",
            "75/75 [==============================] - 0s 5ms/step - loss: 2.2467e-04 - accuracy: 0.1309 - val_loss: nan - val_accuracy: 0.1749\n",
            "Epoch 10/50\n",
            "71/75 [===========================>..] - ETA: 0s - loss: 2.1087e-04 - accuracy: 0.1441\n",
            "Epoch 10: val_loss did not improve from inf\n",
            "Restoring model weights from the end of the best epoch: 1.\n",
            "75/75 [==============================] - 0s 6ms/step - loss: 2.1032e-04 - accuracy: 0.1461 - val_loss: nan - val_accuracy: 0.1749\n",
            "Epoch 10: early stopping\n"
          ]
        }
      ],
      "source": [
        "#Train the Autoencoder\n",
        "\n",
        "history = autoencoder.fit(normal_train_data, normal_train_data,\n",
        "                    epochs=nb_epoch,\n",
        "                    batch_size=batch_size,\n",
        "                    shuffle=True,\n",
        "                    validation_data=(test_data, test_data),\n",
        "                    verbose=1,\n",
        "                    callbacks=[cp, early_stop]\n",
        "                    ).history\n"
      ]
    },
    {
      "cell_type": "code",
      "execution_count": null,
      "metadata": {
        "id": "-gVzzc_L9RIi",
        "outputId": "822f2914-d66a-4050-c910-c32001ddd64a",
        "colab": {
          "base_uri": "https://localhost:8080/",
          "height": 472
        }
      },
      "outputs": [
        {
          "output_type": "display_data",
          "data": {
            "text/plain": [
              "<Figure size 640x480 with 1 Axes>"
            ],
            "image/png": "[encoded data removed]"
          },
          "metadata": {}
        }
      ],
      "source": [
        "#Plot training and test loss\n",
        "\n",
        "plt.plot(history['loss'], linewidth=2, label='Train')\n",
        "plt.plot(history['val_loss'], linewidth=2, label='Test')\n",
        "plt.legend(loc='upper right')\n",
        "plt.title('Model loss')\n",
        "plt.ylabel('Loss')\n",
        "plt.xlabel('Epoch')\n",
        "#plt.ylim(ymin=0.70,ymax=1)\n",
        "plt.show()"
      ]
    },
    {
      "cell_type": "code",
      "execution_count": null,
      "metadata": {
        "id": "Qr5B96Ik9RIj",
        "outputId": "66013c7a-1a5d-4aa5-e2fd-77b6825a3b63",
        "colab": {
          "base_uri": "https://localhost:8080/"
        }
      },
      "outputs": [
        {
          "output_type": "stream",
          "name": "stdout",
          "text": [
            "38/38 [==============================] - 0s 3ms/step\n"
          ]
        }
      ],
      "source": [
        "\"\"\"Detect Anomalies on test data\n",
        "\n",
        "Anomalies are data points where the reconstruction loss is higher\n",
        "\n",
        "To calculate the reconstruction loss on test data,\n",
        "predict the test data and calculate the mean square error between the test data and the reconstructed test data.\"\"\"\n",
        "\n",
        "test_x_predictions = autoencoder.predict(test_data)\n",
        "mse = np.mean(np.power(test_data - test_x_predictions, 2), axis=1)\n",
        "error_df = pd.DataFrame({'Reconstruction_error': mse,\n",
        "                        'True_class': test_labels})"
      ]
    },
    {
      "cell_type": "code",
      "execution_count": null,
      "metadata": {
        "id": "vjeTImx49RIj",
        "outputId": "93322864-dc4f-4ec5-e89f-0a5cc08589fd",
        "colab": {
          "base_uri": "https://localhost:8080/",
          "height": 472
        }
      },
      "outputs": [
        {
          "output_type": "display_data",
          "data": {
            "text/plain": [
              "<Figure size 640x480 with 1 Axes>"
            ],
            "image/png": "[encoded data removed]"
          },
          "metadata": {}
        }
      ],
      "source": [
        "#Plotting the test data points and their respective reconstruction error sets a threshold value to visualize\n",
        "#if the threshold value needs to be adjusted.\n",
        "\n",
        "threshold_fixed = 50\n",
        "groups = error_df.groupby('True_class')\n",
        "fig, ax = plt.subplots()\n",
        "for name, group in groups:\n",
        "    ax.plot(group.index, group.Reconstruction_error, marker='o', ms=3.5, linestyle='',\n",
        "            label= \"Fraud\" if name == 1 else \"Normal\")\n",
        "ax.hlines(threshold_fixed, ax.get_xlim()[0], ax.get_xlim()[1], colors=\"r\", zorder=100, label='Threshold')\n",
        "ax.legend()\n",
        "plt.title(\"Reconstruction error for normal and fraud data\")\n",
        "plt.ylabel(\"Reconstruction error\")\n",
        "plt.xlabel(\"Data point index\")\n",
        "plt.show();"
      ]
    },
    {
      "cell_type": "code",
      "execution_count": null,
      "metadata": {
        "id": "gCTF9CI39RIk",
        "outputId": "80f2c2e7-2124-494e-844b-61416c9176a7",
        "colab": {
          "base_uri": "https://localhost:8080/",
          "height": 515
        }
      },
      "outputs": [
        {
          "output_type": "display_data",
          "data": {
            "text/plain": [
              "<Figure size 400x400 with 2 Axes>"
            ],
            "image/png": "[encoded data removed]"
          },
          "metadata": {}
        },
        {
          "output_type": "stream",
          "name": "stdout",
          "text": [
            " Accuracy:  0.999163179916318\n",
            " Recall:  0.0\n",
            " Precision:  0.0\n"
          ]
        },
        {
          "output_type": "stream",
          "name": "stderr",
          "text": [
            "/usr/local/lib/python3.10/dist-packages/sklearn/metrics/_classification.py:1344: UndefinedMetricWarning: Precision is ill-defined and being set to 0.0 due to no predicted samples. Use `zero_division` parameter to control this behavior.\n",
            "  _warn_prf(average, modifier, msg_start, len(result))\n"
          ]
        }
      ],
      "source": [
        "'''Detect anomalies as points where the reconstruction loss is greater than a fixed threshold.\n",
        "Here we see that a value of 52 for the threshold will be good.\n",
        "\n",
        "Evaluating the performance of the anomaly detection'''\n",
        "\n",
        "threshold_fixed =52\n",
        "pred_y = [1 if e > threshold_fixed else 0 for e in error_df.Reconstruction_error.values]\n",
        "error_df['pred'] =pred_y\n",
        "conf_matrix = confusion_matrix(error_df.True_class, pred_y)\n",
        "plt.figure(figsize=(4, 4))\n",
        "sns.heatmap(conf_matrix, xticklabels=LABELS, yticklabels=LABELS, annot=True, fmt=\"d\");\n",
        "plt.title(\"Confusion matrix\")\n",
        "plt.ylabel('True class')\n",
        "plt.xlabel('Predicted class')\n",
        "plt.show()\n",
        "# print Accuracy, precision and recall\n",
        "print(\" Accuracy: \",accuracy_score(error_df['True_class'], error_df['pred']))\n",
        "print(\" Recall: \",recall_score(error_df['True_class'], error_df['pred']))\n",
        "print(\" Precision: \",precision_score(error_df['True_class'], error_df['pred']))"
      ]
    },
    {
      "cell_type": "code",
      "execution_count": null,
      "metadata": {
        "id": "IjUkA6Ix9RIk",
        "colab": {
          "base_uri": "https://localhost:8080/",
          "height": 69
        },
        "outputId": "aec98056-f20c-48cf-9879-e0a8df305c5d"
      },
      "outputs": [
        {
          "output_type": "execute_result",
          "data": {
            "text/plain": [
              "'As our dataset is highly imbalanced, we see a high accuracy but a low recall and precision.\\n\\nThings to further improve precision and recall would add more relevant features, \\ndifferent architecture for autoencoder, different hyperparameters, or a different algorithm.'"
            ],
            "application/vnd.google.colaboratory.intrinsic+json": {
              "type": "string"
            }
          },
          "metadata": {},
          "execution_count": 24
        }
      ],
      "source": [
        "'''As our dataset is highly imbalanced, we see a high accuracy but a low recall and precision.\n",
        "\n",
        "Things to further improve precision and recall would add more relevant features,\n",
        "different architecture for autoencoder, different hyperparameters, or a different algorithm.'''"
      ]
    },
    {
      "cell_type": "code",
      "execution_count": null,
      "metadata": {
        "id": "SlJVwlEM9RIk",
        "colab": {
          "base_uri": "https://localhost:8080/"
        },
        "outputId": "e20e05a3-c017-4d21-c45a-836830c23ba0"
      },
      "outputs": [
        {
          "output_type": "execute_result",
          "data": {
            "text/plain": [
              "{'loss': [0.1461952179670334,\n",
              "  0.0323563851416111,\n",
              "  0.008053836412727833,\n",
              "  0.002898454200476408,\n",
              "  0.0012132772244513035,\n",
              "  0.0005869605229236186,\n",
              "  0.0003472761018201709,\n",
              "  0.00026068949955515563,\n",
              "  0.00022467230155598372,\n",
              "  0.00021032203221693635],\n",
              " 'accuracy': [0.043551087379455566,\n",
              "  0.03706030175089836,\n",
              "  0.054229479283094406,\n",
              "  0.0420854277908802,\n",
              "  0.05799832567572594,\n",
              "  0.07579564303159714,\n",
              "  0.09694305062294006,\n",
              "  0.11913735419511795,\n",
              "  0.13086265325546265,\n",
              "  0.14614740014076233],\n",
              " 'val_loss': [nan, nan, nan, nan, nan, nan, nan, nan, nan, nan],\n",
              " 'val_accuracy': [0.09707112610340118,\n",
              "  0.06108786538243294,\n",
              "  0.08117154985666275,\n",
              "  0.17405857145786285,\n",
              "  0.13389120995998383,\n",
              "  0.13389120995998383,\n",
              "  0.13389120995998383,\n",
              "  0.1866108775138855,\n",
              "  0.17489539086818695,\n",
              "  0.17489539086818695]}"
            ]
          },
          "metadata": {},
          "execution_count": 25
        }
      ],
      "source": [
        "history"
      ]
    }
  ],
  "metadata": {
    "kernelspec": {
      "display_name": "Python 3",
      "language": "python",
      "name": "python3"
    },
    "language_info": {
      "codemirror_mode": {
        "name": "ipython",
        "version": 3
      },
      "file_extension": ".py",
      "mimetype": "text/x-python",
      "name": "python",
      "nbconvert_exporter": "python",
      "pygments_lexer": "ipython3",
      "version": "3.8.3"
    },
    "colab": {
      "provenance": []
    }
  },
  "nbformat": 4,
  "nbformat_minor": 0
}